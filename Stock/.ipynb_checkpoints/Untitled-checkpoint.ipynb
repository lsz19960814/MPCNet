{
 "cells": [
  {
   "cell_type": "code",
   "execution_count": 7,
   "metadata": {},
   "outputs": [],
   "source": [
    "import os\n",
    "import numpy as np\n",
    "import scipy.sparse as sp\n",
    "import pandas as pd\n",
    "import networkx as nx\n",
    "from scipy.spatial.distance import squareform\n",
    "import matplotlib.pyplot as plt\n",
    "path = os.getcwd()\n",
    "\n",
    "\n",
    "def load_st_dataset(dataset):\n",
    "    #output B, N, D\n",
    "    if dataset == 'PEMSD4':\n",
    "        data_path = os.path.join(path + '/data/PEMS04/PEMS04.npz')\n",
    "        data = np.load(data_path)['data'][:, :, 0:3]  #three dimensions, traffic flow data\n",
    "    elif dataset == 'PEMSD8':\n",
    "        data_path = os.path.join(path + '/data/PEMS08/PEMS08.npz')\n",
    "        data = np.load(data_path)['data'][:, :, 0:3]  #three dimensions, traffic flow data\n",
    "    elif dataset == 'PEMSD3':\n",
    "        data_path = os.path.join(path + '/data/PEMS03/PEMS03.npz')\n",
    "        data = np.load(data_path)['data'][:, :, 0]  # one dimensions, traffic flow data\n",
    "        print(data.shape)\n",
    "        #print(data.shape)\n",
    "    else:\n",
    "        raise ValueError\n",
    "    if len(data.shape) == 2:\n",
    "        data = np.expand_dims(data, axis=-1)\n",
    "    print('Load %s Dataset shaped: ' % dataset, data.shape, data.max(), data.min(), data.mean(), np.median(data))\n",
    "    return data\n",
    "\n",
    "\n",
    "def load_topo_dataset(data_type):\n",
    "    topo_data = np.load(path + '/tda_data/PEMSD' + data_type + '_01_MPGrid_Euler_characteristic_betweenness_sublevel_attribute_power.npz')['arr_0']\n",
    "\n",
    "    return topo_data"
   ]
  },
  {
   "cell_type": "code",
   "execution_count": 2,
   "metadata": {},
   "outputs": [
    {
     "name": "stdout",
     "output_type": "stream",
     "text": [
      "Load PEMSD8 Dataset shaped:  (17856, 170, 3) 1147.0 0.0 98.16958719829445 64.0\n"
     ]
    }
   ],
   "source": [
    "data = load_st_dataset('PEMSD8')"
   ]
  },
  {
   "cell_type": "code",
   "execution_count": 3,
   "metadata": {},
   "outputs": [
    {
     "data": {
      "text/plain": [
       "array([[[1.330e+02, 6.030e-02, 6.580e+01],\n",
       "        [2.100e+02, 5.890e-02, 6.960e+01],\n",
       "        [1.240e+02, 3.580e-02, 6.580e+01],\n",
       "        ...,\n",
       "        [7.400e+01, 2.131e-01, 6.530e+01],\n",
       "        [9.400e+01, 2.260e-02, 6.800e+01],\n",
       "        [6.000e+00, 3.100e-03, 6.500e+01]],\n",
       "\n",
       "       [[1.140e+02, 5.320e-02, 6.690e+01],\n",
       "        [1.850e+02, 5.500e-02, 6.850e+01],\n",
       "        [1.190e+02, 3.390e-02, 6.500e+01],\n",
       "        ...,\n",
       "        [7.300e+01, 1.469e-01, 3.720e+01],\n",
       "        [8.400e+01, 1.890e-02, 6.870e+01],\n",
       "        [4.000e+00, 1.800e-03, 6.500e+01]],\n",
       "\n",
       "       [[1.400e+02, 6.220e-02, 6.680e+01],\n",
       "        [1.710e+02, 4.660e-02, 6.990e+01],\n",
       "        [1.070e+02, 3.360e-02, 6.380e+01],\n",
       "        ...,\n",
       "        [7.000e+01, 5.860e-02, 3.400e+01],\n",
       "        [8.200e+01, 2.200e-02, 6.700e+01],\n",
       "        [4.000e+00, 2.100e-03, 6.490e+01]],\n",
       "\n",
       "       ...,\n",
       "\n",
       "       [[1.200e+02, 5.810e-02, 6.330e+01],\n",
       "        [1.760e+02, 5.290e-02, 6.680e+01],\n",
       "        [1.190e+02, 5.180e-02, 5.610e+01],\n",
       "        ...,\n",
       "        [4.700e+01, 1.551e-01, 3.220e+01],\n",
       "        [9.100e+01, 2.290e-02, 6.640e+01],\n",
       "        [3.000e+00, 1.400e-03, 6.530e+01]],\n",
       "\n",
       "       [[1.020e+02, 5.790e-02, 6.140e+01],\n",
       "        [1.650e+02, 4.920e-02, 6.720e+01],\n",
       "        [1.330e+02, 5.070e-02, 5.890e+01],\n",
       "        ...,\n",
       "        [9.700e+01, 1.265e-01, 3.080e+01],\n",
       "        [8.500e+01, 2.080e-02, 6.750e+01],\n",
       "        [2.000e+00, 1.000e-03, 6.520e+01]],\n",
       "\n",
       "       [[1.020e+02, 5.650e-02, 6.170e+01],\n",
       "        [1.660e+02, 5.020e-02, 6.760e+01],\n",
       "        [1.330e+02, 4.640e-02, 5.630e+01],\n",
       "        ...,\n",
       "        [8.300e+01, 2.730e-02, 5.910e+01],\n",
       "        [7.000e+01, 1.880e-02, 6.660e+01],\n",
       "        [6.000e+00, 2.600e-03, 6.520e+01]]])"
      ]
     },
     "execution_count": 3,
     "metadata": {},
     "output_type": "execute_result"
    }
   ],
   "source": [
    "data"
   ]
  },
  {
   "cell_type": "code",
   "execution_count": 9,
   "metadata": {},
   "outputs": [
    {
     "data": {
      "text/plain": [
       "(17856, 50, 50)"
      ]
     },
     "execution_count": 9,
     "metadata": {},
     "output_type": "execute_result"
    }
   ],
   "source": [
    "load_topo_dataset('8').shape"
   ]
  },
  {
   "cell_type": "code",
   "execution_count": 12,
   "metadata": {},
   "outputs": [],
   "source": [
    "import uea"
   ]
  },
  {
   "cell_type": "code",
   "execution_count": 14,
   "metadata": {},
   "outputs": [],
   "source": [
    "train_X,train_y,val_X,val_y,val_t,val_i =  uea.get_stock_dataset()"
   ]
  },
  {
   "cell_type": "code",
   "execution_count": 15,
   "metadata": {},
   "outputs": [
    {
     "data": {
      "text/plain": [
       "(194439, 9, 20)"
      ]
     },
     "execution_count": 15,
     "metadata": {},
     "output_type": "execute_result"
    }
   ],
   "source": [
    "train_X.shape"
   ]
  },
  {
   "cell_type": "code",
   "execution_count": 18,
   "metadata": {},
   "outputs": [],
   "source": [
    "train_X1 = train_X[0:data.shape[0],:,0:3]"
   ]
  },
  {
   "cell_type": "code",
   "execution_count": 19,
   "metadata": {},
   "outputs": [
    {
     "data": {
      "text/plain": [
       "(17856, 9, 3)"
      ]
     },
     "execution_count": 19,
     "metadata": {},
     "output_type": "execute_result"
    }
   ],
   "source": [
    "train_X1.shape"
   ]
  },
  {
   "cell_type": "code",
   "execution_count": 17,
   "metadata": {},
   "outputs": [],
   "source": [
    "import os\n",
    "import sys\n",
    "#file_dir = os.path.dirname(os.path.dirname(os.path.abspath(__file__)))\n",
    "#sys.path.append(file_dir)\n",
    "#import argparse\n",
    "#import configparser\n",
    "from datetime import datetime\n",
    "from TAMPGCNETs import TAMPGCRNCNN as Network\n",
    "from Trainer import Trainer\n",
    "from TrainInits import init_seed\n",
    "#from dataloader import get_topo_dataloader\n",
    "from TrainInits import print_model_parameters\n",
    "from metrics import MAE_torch\n",
    "import torch\n",
    "import torch.nn as nn\n",
    "\n",
    "# dataset and TAMPG\n"
   ]
  },
  {
   "cell_type": "code",
   "execution_count": 7,
   "metadata": {},
   "outputs": [
    {
     "data": {
      "text/plain": [
       "['PEMSD8_TAMPGCNETs.conf']"
      ]
     },
     "execution_count": 7,
     "metadata": {},
     "output_type": "execute_result"
    }
   ],
   "source": [
    "Mode = 'train'\n",
    "DEBUG = 'True'\n",
    "DATASET = 'PEMSD8' #PEMSD4 or PEMSD8\n",
    "DEVICE = 'cuda:0'\n",
    "MODEL = 'TAMPGCNETs'\n",
    "data_type = '8' # 4 or 8 for PEMSDX dataset\n",
    "\n",
    "#get configuration\n",
    "config_file = '{}_{}.conf'.format(DATASET, MODEL)\n",
    "config = configparser.ConfigParser()\n",
    "config.read(config_file)"
   ]
  },
  {
   "cell_type": "code",
   "execution_count": 8,
   "metadata": {},
   "outputs": [
    {
     "name": "stderr",
     "output_type": "stream",
     "text": [
      "usage: ipykernel_launcher.py [-h] [--dataset DATASET] [--mode MODE]\n",
      "                             [--device DEVICE] [--debug DEBUG] [--model MODEL]\n",
      "                             [--cuda CUDA] [--val_ratio VAL_RATIO]\n",
      "                             [--test_ratio TEST_RATIO] [--lag LAG]\n",
      "                             [--horizon HORIZON] [--num_nodes NUM_NODES]\n",
      "                             [--tod TOD] [--normalizer NORMALIZER]\n",
      "                             [--column_wise COLUMN_WISE]\n",
      "                             [--default_graph DEFAULT_GRAPH]\n",
      "                             [--input_dim INPUT_DIM] [--output_dim OUTPUT_DIM]\n",
      "                             [--embed_dim EMBED_DIM] [--rnn_units RNN_UNITS]\n",
      "                             [--num_layers NUM_LAYERS] [--link_len LINK_LEN]\n",
      "                             [--window_len WINDOW_LEN] [--fixed_adj FIXED_ADJ]\n",
      "                             [--stay_cost STAY_COST] [--jump_cost JUMP_COST]\n",
      "                             [--loss_func LOSS_FUNC] [--seed SEED]\n",
      "                             [--batch_size BATCH_SIZE] [--epochs EPOCHS]\n",
      "                             [--lr_init LR_INIT] [--lr_decay LR_DECAY]\n",
      "                             [--lr_decay_rate LR_DECAY_RATE]\n",
      "                             [--lr_decay_step LR_DECAY_STEP]\n",
      "                             [--early_stop EARLY_STOP]\n",
      "                             [--early_stop_patience EARLY_STOP_PATIENCE]\n",
      "                             [--grad_norm GRAD_NORM]\n",
      "                             [--max_grad_norm MAX_GRAD_NORM]\n",
      "                             [--teacher_forcing TEACHER_FORCING]\n",
      "                             [--real_value REAL_VALUE]\n",
      "                             [--mae_thresh MAE_THRESH]\n",
      "                             [--mape_thresh MAPE_THRESH] [--log_dir LOG_DIR]\n",
      "                             [--log_step LOG_STEP] [--plot PLOT]\n",
      "ipykernel_launcher.py: error: unrecognized arguments: -f C:\\Users\\Admin\\AppData\\Roaming\\jupyter\\runtime\\kernel-49f0aec8-1b07-40b7-8806-ca5d056b7588.json\n"
     ]
    },
    {
     "ename": "SystemExit",
     "evalue": "2",
     "output_type": "error",
     "traceback": [
      "An exception has occurred, use %tb to see the full traceback.\n",
      "\u001b[1;31mSystemExit\u001b[0m\u001b[1;31m:\u001b[0m 2\n"
     ]
    }
   ],
   "source": [
    "args = argparse.ArgumentParser(description='arguments')\n",
    "args.add_argument('--dataset', default=DATASET, type=str)\n",
    "args.add_argument('--mode', default=Mode, type=str)\n",
    "args.add_argument('--device', default=DEVICE, type=str, help='indices of GPUs')\n",
    "args.add_argument('--debug', default=DEBUG, type=eval)\n",
    "args.add_argument('--model', default=MODEL, type=str)\n",
    "args.add_argument('--cuda', default=True, type=bool)\n",
    "# from data, these below information could be found in .conf file\n",
    "#data\n",
    "args.add_argument('--val_ratio', default=config['data']['val_ratio'], type=float)\n",
    "args.add_argument('--test_ratio', default=config['data']['test_ratio'], type=float)\n",
    "args.add_argument('--lag', default=config['data']['lag'], type=int)\n",
    "args.add_argument('--horizon', default=config['data']['horizon'], type=int)\n",
    "args.add_argument('--num_nodes', default=config['data']['num_nodes'], type=int)\n",
    "args.add_argument('--tod', default=config['data']['tod'], type=eval)\n",
    "args.add_argument('--normalizer', default=config['data']['normalizer'], type=str)\n",
    "args.add_argument('--column_wise', default=config['data']['column_wise'], type=eval)\n",
    "args.add_argument('--default_graph', default=config['data']['default_graph'], type=eval)\n",
    "#model\n",
    "args.add_argument('--input_dim', default=config['model']['input_dim'], type=int)\n",
    "args.add_argument('--output_dim', default=config['model']['output_dim'], type=int)\n",
    "args.add_argument('--embed_dim', default=config['model']['embed_dim'], type=int)\n",
    "args.add_argument('--rnn_units', default=config['model']['rnn_units'], type=int)\n",
    "args.add_argument('--num_layers', default=config['model']['num_layers'], type=int)\n",
    "args.add_argument('--link_len', default=config['model']['link_len'], type=int)\n",
    "args.add_argument('--window_len', default=config['model']['window_len'], type=int)\n",
    "args.add_argument('--fixed_adj', default=config['model']['fixed_adj'], type=int)\n",
    "args.add_argument('--stay_cost', default=config['model']['stay_cost'], type=float)\n",
    "args.add_argument('--jump_cost', default=config['model']['jump_cost'], type=float)\n",
    "#train\n",
    "args.add_argument('--loss_func', default=config['train']['loss_func'], type=str)\n",
    "args.add_argument('--seed', default=config['train']['seed'], type=int)\n",
    "args.add_argument('--batch_size', default=config['train']['batch_size'], type=int)\n",
    "args.add_argument('--epochs', default=config['train']['epochs'], type=int)\n",
    "args.add_argument('--lr_init', default=config['train']['lr_init'], type=float)\n",
    "args.add_argument('--lr_decay', default=config['train']['lr_decay'], type=eval)\n",
    "args.add_argument('--lr_decay_rate', default=config['train']['lr_decay_rate'], type=float)\n",
    "args.add_argument('--lr_decay_step', default=config['train']['lr_decay_step'], type=str)\n",
    "args.add_argument('--early_stop', default=config['train']['early_stop'], type=eval)\n",
    "args.add_argument('--early_stop_patience', default=config['train']['early_stop_patience'], type=int)\n",
    "args.add_argument('--grad_norm', default=config['train']['grad_norm'], type=eval)\n",
    "args.add_argument('--max_grad_norm', default=config['train']['max_grad_norm'], type=int)\n",
    "args.add_argument('--teacher_forcing', default=False, type=bool)\n",
    "args.add_argument('--real_value', default=config['train']['real_value'], type=eval, help = 'use real value for loss calculation')\n",
    "#test\n",
    "args.add_argument('--mae_thresh', default=config['test']['mae_thresh'], type=eval)\n",
    "args.add_argument('--mape_thresh', default=config['test']['mape_thresh'], type=float)\n",
    "#log\n",
    "args.add_argument('--log_dir', default='./', type=str)\n",
    "args.add_argument('--log_step', default=config['log']['log_step'], type=int)\n",
    "args.add_argument('--plot', default=config['log']['plot'], type=eval)\n",
    "args = args.parse_args()\n",
    "init_seed(args.seed)\n",
    "if torch.cuda.is_available():\n",
    "    torch.cuda.set_device(int(args.device[5]))\n",
    "else:\n",
    "    args.device = 'cpu'"
   ]
  },
  {
   "cell_type": "code",
   "execution_count": 9,
   "metadata": {},
   "outputs": [
    {
     "ename": "AttributeError",
     "evalue": "'ArgumentParser' object has no attribute 'device'",
     "output_type": "error",
     "traceback": [
      "\u001b[1;31m---------------------------------------------------------------------------\u001b[0m",
      "\u001b[1;31mAttributeError\u001b[0m                            Traceback (most recent call last)",
      "\u001b[1;32m<ipython-input-9-f77d536948c3>\u001b[0m in \u001b[0;36m<module>\u001b[1;34m\u001b[0m\n\u001b[1;32m----> 1\u001b[1;33m \u001b[0margs\u001b[0m\u001b[1;33m.\u001b[0m\u001b[0mdevice\u001b[0m\u001b[1;33m\u001b[0m\u001b[1;33m\u001b[0m\u001b[0m\n\u001b[0m",
      "\u001b[1;31mAttributeError\u001b[0m: 'ArgumentParser' object has no attribute 'device'"
     ]
    }
   ],
   "source": [
    "args.device"
   ]
  },
  {
   "cell_type": "code",
   "execution_count": null,
   "metadata": {},
   "outputs": [],
   "source": []
  }
 ],
 "metadata": {
  "kernelspec": {
   "display_name": "Python 3",
   "language": "python",
   "name": "python3"
  },
  "language_info": {
   "codemirror_mode": {
    "name": "ipython",
    "version": 3
   },
   "file_extension": ".py",
   "mimetype": "text/x-python",
   "name": "python",
   "nbconvert_exporter": "python",
   "pygments_lexer": "ipython3",
   "version": "3.8.5"
  }
 },
 "nbformat": 4,
 "nbformat_minor": 5
}
